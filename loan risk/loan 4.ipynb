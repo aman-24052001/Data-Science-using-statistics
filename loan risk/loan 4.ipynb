{
 "cells": [
  {
   "cell_type": "code",
   "execution_count": 1,
   "id": "465869d5-7aa1-4acd-9c81-4bf11e61b30c",
   "metadata": {},
   "outputs": [],
   "source": [
    "import pandas as pd\n",
    "import numpy as np\n",
    "import scipy.stats as stats"
   ]
  },
  {
   "cell_type": "code",
   "execution_count": 2,
   "id": "b4f2c686-ddf1-4b95-8c96-5f2982e294de",
   "metadata": {},
   "outputs": [],
   "source": [
    "df=pd.read_csv(\"loan-dataset-clean.csv\")"
   ]
  },
  {
   "cell_type": "code",
   "execution_count": 6,
   "id": "8d40141a-ec11-455f-aa24-c192432ca81e",
   "metadata": {},
   "outputs": [],
   "source": [
    "import statsmodels.api as sm\n",
    "from statsmodels.formula.api import ols"
   ]
  },
  {
   "cell_type": "code",
   "execution_count": 4,
   "id": "f580364c-033d-46db-b8e2-a677b61adaf2",
   "metadata": {},
   "outputs": [],
   "source": [
    "#Convert the is_default to numeric to conform with ANOVA test requirement\n",
    "df['is_default'] = df['is_default'].astype(int)"
   ]
  },
  {
   "cell_type": "code",
   "execution_count": 7,
   "id": "c56ff314-c52e-48cd-953f-673ede96e206",
   "metadata": {},
   "outputs": [
    {
     "name": "stdout",
     "output_type": "stream",
     "text": [
      "                     sum_sq       df           F         PR(>F)\n",
      "C(loan_channel)   29.296879      4.0  223.138301  2.286606e-186\n",
      "Residual         492.191054  14995.0         NaN            NaN\n"
     ]
    }
   ],
   "source": [
    "#ANOVA Test\n",
    "formula = 'is_default ~ C(loan_channel)'\n",
    "model = ols(formula, data=df).fit()\n",
    "aov_table = sm.stats.anova_lm(model, typ=2)\n",
    "print(aov_table)"
   ]
  },
  {
   "cell_type": "markdown",
   "id": "31cd2797-bd4e-46c0-b04d-9ca9a7e91560",
   "metadata": {},
   "source": [
    "The p-value is less than significance level of 0.05, means there is a statistically significant difference between the groups of loan_channel."
   ]
  },
  {
   "cell_type": "code",
   "execution_count": 8,
   "id": "d9012902-114a-477c-9102-e3b8ff8f3bdc",
   "metadata": {},
   "outputs": [
    {
     "name": "stdout",
     "output_type": "stream",
     "text": [
      "        Multiple Comparison of Means - Tukey HSD, FWER=0.05        \n",
      "===================================================================\n",
      "    group1         group2     meandiff p-adj   lower  upper  reject\n",
      "-------------------------------------------------------------------\n",
      "     AFFILIATE          AGENT  -0.0034 0.9505 -0.0161 0.0093  False\n",
      "     AFFILIATE DIRECT_SELLING   0.0004    1.0 -0.0125 0.0133  False\n",
      "     AFFILIATE     MOBILE_APP  -0.0036 0.9398 -0.0165 0.0092  False\n",
      "     AFFILIATE            WEB   0.1059   -0.0  0.0934 0.1185   True\n",
      "         AGENT DIRECT_SELLING   0.0038 0.9321 -0.0091 0.0167  False\n",
      "         AGENT     MOBILE_APP  -0.0002    1.0 -0.0131 0.0126  False\n",
      "         AGENT            WEB   0.1093   -0.0  0.0968 0.1218   True\n",
      "DIRECT_SELLING     MOBILE_APP   -0.004 0.9195  -0.017  0.009  False\n",
      "DIRECT_SELLING            WEB   0.1055   -0.0  0.0928 0.1182   True\n",
      "    MOBILE_APP            WEB   0.1095   -0.0  0.0969 0.1222   True\n",
      "-------------------------------------------------------------------\n"
     ]
    }
   ],
   "source": [
    "#post-hoc tests\n",
    "#Perform post-hoc tests to determine which loan channel has different impact on default rate.\n",
    "#Use Tukey's Honestly Significant Difference (HSD) test on the data. Use is_default as the response variable and loan_channel column as the predictor variable\n",
    "mc = sm.stats.multicomp.MultiComparison(df['is_default'], df['loan_channel'])\n",
    "mc_results = mc.tukeyhsd()\n",
    "print(mc_results.summary())"
   ]
  },
  {
   "cell_type": "markdown",
   "id": "24b162c0-241c-4e87-b27b-a3c00a2c2cc7",
   "metadata": {},
   "source": [
    "True for web"
   ]
  }
 ],
 "metadata": {
  "kernelspec": {
   "display_name": "Python 3 (ipykernel)",
   "language": "python",
   "name": "python3"
  },
  "language_info": {
   "codemirror_mode": {
    "name": "ipython",
    "version": 3
   },
   "file_extension": ".py",
   "mimetype": "text/x-python",
   "name": "python",
   "nbconvert_exporter": "python",
   "pygments_lexer": "ipython3",
   "version": "3.8.10"
  }
 },
 "nbformat": 4,
 "nbformat_minor": 5
}
