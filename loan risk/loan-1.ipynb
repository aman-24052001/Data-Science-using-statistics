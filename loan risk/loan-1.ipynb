{
 "cells": [
  {
   "cell_type": "code",
   "execution_count": 1,
   "id": "71f3f5e3-b506-4b8d-a45c-661503a39462",
   "metadata": {},
   "outputs": [],
   "source": [
    "import pandas as pd\n",
    "import numpy as np\n",
    "import matplotlib.pyplot as plt\n"
   ]
  },
  {
   "cell_type": "code",
   "execution_count": 36,
   "id": "54c047da-12c3-466d-b6fc-42962b897d30",
   "metadata": {},
   "outputs": [],
   "source": [
    "#Importing the required dataset\n",
    "df=pd.read_csv(\"loan-dataset-1.csv\")"
   ]
  },
  {
   "cell_type": "markdown",
   "id": "b34bbce1-5e45-4714-89e9-fa4bd0207a40",
   "metadata": {},
   "source": [
    "Data Exploration"
   ]
  },
  {
   "cell_type": "code",
   "execution_count": 5,
   "id": "16b2db0e-75b5-4233-8895-b50cf01caf87",
   "metadata": {},
   "outputs": [
    {
     "data": {
      "text/html": [
       "<div>\n",
       "<style scoped>\n",
       "    .dataframe tbody tr th:only-of-type {\n",
       "        vertical-align: middle;\n",
       "    }\n",
       "\n",
       "    .dataframe tbody tr th {\n",
       "        vertical-align: top;\n",
       "    }\n",
       "\n",
       "    .dataframe thead th {\n",
       "        text-align: right;\n",
       "    }\n",
       "</style>\n",
       "<table border=\"1\" class=\"dataframe\">\n",
       "  <thead>\n",
       "    <tr style=\"text-align: right;\">\n",
       "      <th></th>\n",
       "      <th>loan_id</th>\n",
       "      <th>principal_loan_amount</th>\n",
       "      <th>request_date</th>\n",
       "      <th>interest_rate</th>\n",
       "      <th>loan_channel</th>\n",
       "      <th>is_approved</th>\n",
       "      <th>is_default</th>\n",
       "      <th>customer_monthly_income</th>\n",
       "      <th>customer_age</th>\n",
       "      <th>customer_gender</th>\n",
       "      <th>customer_credit_score</th>\n",
       "      <th>customer_zip_code</th>\n",
       "    </tr>\n",
       "  </thead>\n",
       "  <tbody>\n",
       "    <tr>\n",
       "      <th>0</th>\n",
       "      <td>70280c1b-4339-4949-ba69-ad2a6cb6b782</td>\n",
       "      <td>8880</td>\n",
       "      <td>2023-03-06</td>\n",
       "      <td>9.0</td>\n",
       "      <td>WEB</td>\n",
       "      <td>True</td>\n",
       "      <td>NaN</td>\n",
       "      <td>6100</td>\n",
       "      <td>30</td>\n",
       "      <td>Male</td>\n",
       "      <td>3</td>\n",
       "      <td>10007</td>\n",
       "    </tr>\n",
       "    <tr>\n",
       "      <th>1</th>\n",
       "      <td>8a550559-9749-491b-b6aa-7188bc0a488f</td>\n",
       "      <td>13720</td>\n",
       "      <td>2023-05-10</td>\n",
       "      <td>10.0</td>\n",
       "      <td>MOBILE_APP</td>\n",
       "      <td>True</td>\n",
       "      <td>NaN</td>\n",
       "      <td>5150</td>\n",
       "      <td>39</td>\n",
       "      <td>Female</td>\n",
       "      <td>3</td>\n",
       "      <td>10004</td>\n",
       "    </tr>\n",
       "    <tr>\n",
       "      <th>2</th>\n",
       "      <td>5644d27e-e05e-4a40-bef3-64187892338f</td>\n",
       "      <td>2090</td>\n",
       "      <td>2023-02-16</td>\n",
       "      <td>7.5</td>\n",
       "      <td>AGENT</td>\n",
       "      <td>True</td>\n",
       "      <td>NaN</td>\n",
       "      <td>6030</td>\n",
       "      <td>43</td>\n",
       "      <td>Female</td>\n",
       "      <td>3</td>\n",
       "      <td>10003</td>\n",
       "    </tr>\n",
       "    <tr>\n",
       "      <th>3</th>\n",
       "      <td>9d8d17ac-8af9-4936-ba5d-8d5ed5e0cfab</td>\n",
       "      <td>6820</td>\n",
       "      <td>2023-02-26</td>\n",
       "      <td>8.5</td>\n",
       "      <td>MOBILE_APP</td>\n",
       "      <td>NaN</td>\n",
       "      <td>NaN</td>\n",
       "      <td>2150</td>\n",
       "      <td>54</td>\n",
       "      <td>Male</td>\n",
       "      <td>0</td>\n",
       "      <td>10004</td>\n",
       "    </tr>\n",
       "    <tr>\n",
       "      <th>4</th>\n",
       "      <td>4586ad7a-2231-419b-b8e3-ba03b929b56e</td>\n",
       "      <td>13770</td>\n",
       "      <td>2023-04-13</td>\n",
       "      <td>10.0</td>\n",
       "      <td>AFFILIATE</td>\n",
       "      <td>NaN</td>\n",
       "      <td>NaN</td>\n",
       "      <td>5810</td>\n",
       "      <td>28</td>\n",
       "      <td>Female</td>\n",
       "      <td>2</td>\n",
       "      <td>10007</td>\n",
       "    </tr>\n",
       "  </tbody>\n",
       "</table>\n",
       "</div>"
      ],
      "text/plain": [
       "                                loan_id  principal_loan_amount request_date  \\\n",
       "0  70280c1b-4339-4949-ba69-ad2a6cb6b782                   8880   2023-03-06   \n",
       "1  8a550559-9749-491b-b6aa-7188bc0a488f                  13720   2023-05-10   \n",
       "2  5644d27e-e05e-4a40-bef3-64187892338f                   2090   2023-02-16   \n",
       "3  9d8d17ac-8af9-4936-ba5d-8d5ed5e0cfab                   6820   2023-02-26   \n",
       "4  4586ad7a-2231-419b-b8e3-ba03b929b56e                  13770   2023-04-13   \n",
       "\n",
       "   interest_rate loan_channel is_approved is_default  customer_monthly_income  \\\n",
       "0            9.0          WEB        True        NaN                     6100   \n",
       "1           10.0   MOBILE_APP        True        NaN                     5150   \n",
       "2            7.5        AGENT        True        NaN                     6030   \n",
       "3            8.5   MOBILE_APP         NaN        NaN                     2150   \n",
       "4           10.0    AFFILIATE         NaN        NaN                     5810   \n",
       "\n",
       "   customer_age customer_gender  customer_credit_score  customer_zip_code  \n",
       "0            30            Male                      3              10007  \n",
       "1            39          Female                      3              10004  \n",
       "2            43          Female                      3              10003  \n",
       "3            54            Male                      0              10004  \n",
       "4            28          Female                      2              10007  "
      ]
     },
     "execution_count": 5,
     "metadata": {},
     "output_type": "execute_result"
    }
   ],
   "source": [
    "df.head()"
   ]
  },
  {
   "cell_type": "code",
   "execution_count": 6,
   "id": "6bbf1562-806c-466a-a261-c4b25479129d",
   "metadata": {},
   "outputs": [
    {
     "data": {
      "text/html": [
       "<div>\n",
       "<style scoped>\n",
       "    .dataframe tbody tr th:only-of-type {\n",
       "        vertical-align: middle;\n",
       "    }\n",
       "\n",
       "    .dataframe tbody tr th {\n",
       "        vertical-align: top;\n",
       "    }\n",
       "\n",
       "    .dataframe thead th {\n",
       "        text-align: right;\n",
       "    }\n",
       "</style>\n",
       "<table border=\"1\" class=\"dataframe\">\n",
       "  <thead>\n",
       "    <tr style=\"text-align: right;\">\n",
       "      <th></th>\n",
       "      <th>loan_id</th>\n",
       "      <th>principal_loan_amount</th>\n",
       "      <th>request_date</th>\n",
       "      <th>interest_rate</th>\n",
       "      <th>loan_channel</th>\n",
       "      <th>is_approved</th>\n",
       "      <th>is_default</th>\n",
       "      <th>customer_monthly_income</th>\n",
       "      <th>customer_age</th>\n",
       "      <th>customer_gender</th>\n",
       "      <th>customer_credit_score</th>\n",
       "      <th>customer_zip_code</th>\n",
       "    </tr>\n",
       "  </thead>\n",
       "  <tbody>\n",
       "    <tr>\n",
       "      <th>15158</th>\n",
       "      <td>1a3c6a20-4da0-422c-8c89-d9d1906b2f84</td>\n",
       "      <td>3320</td>\n",
       "      <td>2023-05-03</td>\n",
       "      <td>8.0</td>\n",
       "      <td>AGENT</td>\n",
       "      <td>True</td>\n",
       "      <td>NaN</td>\n",
       "      <td>3900</td>\n",
       "      <td>49</td>\n",
       "      <td>Male</td>\n",
       "      <td>5</td>\n",
       "      <td>10005</td>\n",
       "    </tr>\n",
       "    <tr>\n",
       "      <th>15159</th>\n",
       "      <td>c870947f-28f3-424e-89d4-ebc0d8126bcb</td>\n",
       "      <td>12370</td>\n",
       "      <td>2023-01-03</td>\n",
       "      <td>9.5</td>\n",
       "      <td>DIRECT_SELLING</td>\n",
       "      <td>True</td>\n",
       "      <td>NaN</td>\n",
       "      <td>3120</td>\n",
       "      <td>33</td>\n",
       "      <td>M</td>\n",
       "      <td>3</td>\n",
       "      <td>10009</td>\n",
       "    </tr>\n",
       "    <tr>\n",
       "      <th>15160</th>\n",
       "      <td>fde0b44b-f82b-4452-8719-8190e95a5884</td>\n",
       "      <td>14150</td>\n",
       "      <td>2023-05-19</td>\n",
       "      <td>10.0</td>\n",
       "      <td>AFFILIATE</td>\n",
       "      <td>True</td>\n",
       "      <td>NaN</td>\n",
       "      <td>3120</td>\n",
       "      <td>31</td>\n",
       "      <td>Female</td>\n",
       "      <td>4</td>\n",
       "      <td>10007</td>\n",
       "    </tr>\n",
       "    <tr>\n",
       "      <th>15161</th>\n",
       "      <td>91bd0c9b-306c-41ea-b6b1-aa7b01c71b5c</td>\n",
       "      <td>3250</td>\n",
       "      <td>2023-01-22</td>\n",
       "      <td>8.0</td>\n",
       "      <td>DIRECT_SELLING</td>\n",
       "      <td>True</td>\n",
       "      <td>NaN</td>\n",
       "      <td>6390</td>\n",
       "      <td>38</td>\n",
       "      <td>Male</td>\n",
       "      <td>3</td>\n",
       "      <td>10009</td>\n",
       "    </tr>\n",
       "    <tr>\n",
       "      <th>15162</th>\n",
       "      <td>0608c5bc-2eaa-42c2-a034-3d189fda6567</td>\n",
       "      <td>10990</td>\n",
       "      <td>2023-01-21</td>\n",
       "      <td>9.5</td>\n",
       "      <td>AFFILIATE</td>\n",
       "      <td>True</td>\n",
       "      <td>NaN</td>\n",
       "      <td>3090</td>\n",
       "      <td>43</td>\n",
       "      <td>Male</td>\n",
       "      <td>3</td>\n",
       "      <td>10005</td>\n",
       "    </tr>\n",
       "  </tbody>\n",
       "</table>\n",
       "</div>"
      ],
      "text/plain": [
       "                                    loan_id  principal_loan_amount  \\\n",
       "15158  1a3c6a20-4da0-422c-8c89-d9d1906b2f84                   3320   \n",
       "15159  c870947f-28f3-424e-89d4-ebc0d8126bcb                  12370   \n",
       "15160  fde0b44b-f82b-4452-8719-8190e95a5884                  14150   \n",
       "15161  91bd0c9b-306c-41ea-b6b1-aa7b01c71b5c                   3250   \n",
       "15162  0608c5bc-2eaa-42c2-a034-3d189fda6567                  10990   \n",
       "\n",
       "      request_date  interest_rate    loan_channel is_approved is_default  \\\n",
       "15158   2023-05-03            8.0           AGENT        True        NaN   \n",
       "15159   2023-01-03            9.5  DIRECT_SELLING        True        NaN   \n",
       "15160   2023-05-19           10.0       AFFILIATE        True        NaN   \n",
       "15161   2023-01-22            8.0  DIRECT_SELLING        True        NaN   \n",
       "15162   2023-01-21            9.5       AFFILIATE        True        NaN   \n",
       "\n",
       "       customer_monthly_income  customer_age customer_gender  \\\n",
       "15158                     3900            49            Male   \n",
       "15159                     3120            33               M   \n",
       "15160                     3120            31          Female   \n",
       "15161                     6390            38            Male   \n",
       "15162                     3090            43            Male   \n",
       "\n",
       "       customer_credit_score  customer_zip_code  \n",
       "15158                      5              10005  \n",
       "15159                      3              10009  \n",
       "15160                      4              10007  \n",
       "15161                      3              10009  \n",
       "15162                      3              10005  "
      ]
     },
     "execution_count": 6,
     "metadata": {},
     "output_type": "execute_result"
    }
   ],
   "source": [
    "df.tail()"
   ]
  },
  {
   "cell_type": "code",
   "execution_count": 37,
   "id": "97822195-13d1-419d-bdc3-484c033bc58d",
   "metadata": {},
   "outputs": [
    {
     "data": {
      "text/plain": [
       "(15163, 12)"
      ]
     },
     "execution_count": 37,
     "metadata": {},
     "output_type": "execute_result"
    }
   ],
   "source": [
    "#No. of rown and No. of columns\n",
    "df.shape"
   ]
  },
  {
   "cell_type": "code",
   "execution_count": 9,
   "id": "c007e1f7-9370-4ceb-b823-dc434968c741",
   "metadata": {},
   "outputs": [
    {
     "data": {
      "text/plain": [
       "181956"
      ]
     },
     "execution_count": 9,
     "metadata": {},
     "output_type": "execute_result"
    }
   ],
   "source": [
    "#Total no. of cells\n",
    "df.size"
   ]
  },
  {
   "cell_type": "code",
   "execution_count": 12,
   "id": "81910b83-5c21-4664-9838-6457e03dda75",
   "metadata": {},
   "outputs": [
    {
     "data": {
      "text/plain": [
       "Index(['loan_id', 'principal_loan_amount', 'request_date', 'interest_rate',\n",
       "       'loan_channel', 'is_approved', 'is_default', 'customer_monthly_income',\n",
       "       'customer_age', 'customer_gender', 'customer_credit_score',\n",
       "       'customer_zip_code'],\n",
       "      dtype='object')"
      ]
     },
     "execution_count": 12,
     "metadata": {},
     "output_type": "execute_result"
    }
   ],
   "source": [
    "#Name of columns in dataset\n",
    "df.columns"
   ]
  },
  {
   "cell_type": "code",
   "execution_count": 14,
   "id": "93515165-1142-477d-a81e-c16dd7b6d7c5",
   "metadata": {},
   "outputs": [
    {
     "data": {
      "text/plain": [
       "loan_id                     object\n",
       "principal_loan_amount        int64\n",
       "request_date                object\n",
       "interest_rate              float64\n",
       "loan_channel                object\n",
       "is_approved                 object\n",
       "is_default                  object\n",
       "customer_monthly_income      int64\n",
       "customer_age                 int64\n",
       "customer_gender             object\n",
       "customer_credit_score        int64\n",
       "customer_zip_code            int64\n",
       "dtype: object"
      ]
     },
     "execution_count": 14,
     "metadata": {},
     "output_type": "execute_result"
    }
   ],
   "source": [
    "#Data_types of each column\n",
    "df.dtypes"
   ]
  },
  {
   "cell_type": "code",
   "execution_count": 15,
   "id": "a414d2df-1adf-4489-9ebe-c0edb2638fd9",
   "metadata": {},
   "outputs": [
    {
     "name": "stdout",
     "output_type": "stream",
     "text": [
      "<class 'pandas.core.frame.DataFrame'>\n",
      "RangeIndex: 15163 entries, 0 to 15162\n",
      "Data columns (total 12 columns):\n",
      " #   Column                   Non-Null Count  Dtype  \n",
      "---  ------                   --------------  -----  \n",
      " 0   loan_id                  15163 non-null  object \n",
      " 1   principal_loan_amount    15163 non-null  int64  \n",
      " 2   request_date             15163 non-null  object \n",
      " 3   interest_rate            15163 non-null  float64\n",
      " 4   loan_channel             15163 non-null  object \n",
      " 5   is_approved              11771 non-null  object \n",
      " 6   is_default               545 non-null    object \n",
      " 7   customer_monthly_income  15163 non-null  int64  \n",
      " 8   customer_age             15163 non-null  int64  \n",
      " 9   customer_gender          15163 non-null  object \n",
      " 10  customer_credit_score    15163 non-null  int64  \n",
      " 11  customer_zip_code        15163 non-null  int64  \n",
      "dtypes: float64(1), int64(5), object(6)\n",
      "memory usage: 1.4+ MB\n"
     ]
    }
   ],
   "source": [
    "#for count of non_null values in a column (helps identifying which column has missing values)\n",
    "df.info()"
   ]
  },
  {
   "cell_type": "code",
   "execution_count": 79,
   "id": "2fafa24e-f513-4372-b1fb-cae8fd744a2c",
   "metadata": {},
   "outputs": [
    {
     "data": {
      "text/plain": [
       "9dc23377-2007-4bd4-8e70-aba5d4ca6b77    2\n",
       "8440c973-b1d6-4cf7-98aa-053ee5de4b7a    2\n",
       "047f4180-ce70-4739-9951-5396b914d243    2\n",
       "d8613add-4898-4513-a583-a17b02e4e25d    2\n",
       "c8c480d2-a01f-4c64-8dc9-e5851e3d03b4    2\n",
       "                                       ..\n",
       "f752d063-ad75-4e20-91db-160beea7d593    1\n",
       "582e8286-a428-4181-ba00-4e3625f82ed8    1\n",
       "23113018-36c5-4a53-b1a5-18a89f20caac    1\n",
       "24c51ce7-910b-4991-a943-e834b6fa639d    1\n",
       "0608c5bc-2eaa-42c2-a034-3d189fda6567    1\n",
       "Name: loan_id, Length: 15000, dtype: int64"
      ]
     },
     "execution_count": 79,
     "metadata": {},
     "output_type": "execute_result"
    }
   ],
   "source": [
    "#no. of rows associated with a loan_id (helps identifying multiple applicants)\n",
    "df['loan_id'].value_counts()"
   ]
  },
  {
   "cell_type": "code",
   "execution_count": 29,
   "id": "8d8cad41-1820-471f-9c9c-d1a29454e48c",
   "metadata": {},
   "outputs": [
    {
     "data": {
      "text/html": [
       "<div>\n",
       "<style scoped>\n",
       "    .dataframe tbody tr th:only-of-type {\n",
       "        vertical-align: middle;\n",
       "    }\n",
       "\n",
       "    .dataframe tbody tr th {\n",
       "        vertical-align: top;\n",
       "    }\n",
       "\n",
       "    .dataframe thead th {\n",
       "        text-align: right;\n",
       "    }\n",
       "</style>\n",
       "<table border=\"1\" class=\"dataframe\">\n",
       "  <thead>\n",
       "    <tr style=\"text-align: right;\">\n",
       "      <th></th>\n",
       "      <th>principal_loan_amount</th>\n",
       "      <th>interest_rate</th>\n",
       "      <th>customer_monthly_income</th>\n",
       "      <th>customer_age</th>\n",
       "      <th>customer_credit_score</th>\n",
       "      <th>customer_zip_code</th>\n",
       "    </tr>\n",
       "  </thead>\n",
       "  <tbody>\n",
       "    <tr>\n",
       "      <th>count</th>\n",
       "      <td>15163.000000</td>\n",
       "      <td>15163.000000</td>\n",
       "      <td>15163.000000</td>\n",
       "      <td>15163.000000</td>\n",
       "      <td>15163.000000</td>\n",
       "      <td>15163.000000</td>\n",
       "    </tr>\n",
       "    <tr>\n",
       "      <th>mean</th>\n",
       "      <td>8072.432236</td>\n",
       "      <td>8.852800</td>\n",
       "      <td>4253.158346</td>\n",
       "      <td>41.070896</td>\n",
       "      <td>3.440018</td>\n",
       "      <td>10005.838027</td>\n",
       "    </tr>\n",
       "    <tr>\n",
       "      <th>std</th>\n",
       "      <td>4050.341783</td>\n",
       "      <td>0.814432</td>\n",
       "      <td>1304.176559</td>\n",
       "      <td>11.200741</td>\n",
       "      <td>1.367703</td>\n",
       "      <td>2.098677</td>\n",
       "    </tr>\n",
       "    <tr>\n",
       "      <th>min</th>\n",
       "      <td>1000.000000</td>\n",
       "      <td>7.500000</td>\n",
       "      <td>2000.000000</td>\n",
       "      <td>22.000000</td>\n",
       "      <td>0.000000</td>\n",
       "      <td>10001.000000</td>\n",
       "    </tr>\n",
       "    <tr>\n",
       "      <th>25%</th>\n",
       "      <td>4560.000000</td>\n",
       "      <td>8.000000</td>\n",
       "      <td>3120.000000</td>\n",
       "      <td>31.000000</td>\n",
       "      <td>3.000000</td>\n",
       "      <td>10004.000000</td>\n",
       "    </tr>\n",
       "    <tr>\n",
       "      <th>50%</th>\n",
       "      <td>8110.000000</td>\n",
       "      <td>9.000000</td>\n",
       "      <td>4250.000000</td>\n",
       "      <td>41.000000</td>\n",
       "      <td>4.000000</td>\n",
       "      <td>10006.000000</td>\n",
       "    </tr>\n",
       "    <tr>\n",
       "      <th>75%</th>\n",
       "      <td>11590.000000</td>\n",
       "      <td>9.500000</td>\n",
       "      <td>5390.000000</td>\n",
       "      <td>51.000000</td>\n",
       "      <td>5.000000</td>\n",
       "      <td>10008.000000</td>\n",
       "    </tr>\n",
       "    <tr>\n",
       "      <th>max</th>\n",
       "      <td>15000.000000</td>\n",
       "      <td>10.000000</td>\n",
       "      <td>6500.000000</td>\n",
       "      <td>60.000000</td>\n",
       "      <td>5.000000</td>\n",
       "      <td>10009.000000</td>\n",
       "    </tr>\n",
       "  </tbody>\n",
       "</table>\n",
       "</div>"
      ],
      "text/plain": [
       "       principal_loan_amount  interest_rate  customer_monthly_income  \\\n",
       "count           15163.000000   15163.000000             15163.000000   \n",
       "mean             8072.432236       8.852800              4253.158346   \n",
       "std              4050.341783       0.814432              1304.176559   \n",
       "min              1000.000000       7.500000              2000.000000   \n",
       "25%              4560.000000       8.000000              3120.000000   \n",
       "50%              8110.000000       9.000000              4250.000000   \n",
       "75%             11590.000000       9.500000              5390.000000   \n",
       "max             15000.000000      10.000000              6500.000000   \n",
       "\n",
       "       customer_age  customer_credit_score  customer_zip_code  \n",
       "count  15163.000000           15163.000000       15163.000000  \n",
       "mean      41.070896               3.440018       10005.838027  \n",
       "std       11.200741               1.367703           2.098677  \n",
       "min       22.000000               0.000000       10001.000000  \n",
       "25%       31.000000               3.000000       10004.000000  \n",
       "50%       41.000000               4.000000       10006.000000  \n",
       "75%       51.000000               5.000000       10008.000000  \n",
       "max       60.000000               5.000000       10009.000000  "
      ]
     },
     "execution_count": 29,
     "metadata": {},
     "output_type": "execute_result"
    }
   ],
   "source": [
    "#To determine Range of column(max and mean)\n",
    "df.describe()"
   ]
  },
  {
   "cell_type": "code",
   "execution_count": 33,
   "id": "4c3d5f03-e88c-453c-9304-6f7d293feb10",
   "metadata": {},
   "outputs": [
    {
     "data": {
      "text/plain": [
       "array([ 9. , 10. ,  7.5,  8.5,  9.5,  8. ])"
      ]
     },
     "execution_count": 33,
     "metadata": {},
     "output_type": "execute_result"
    }
   ],
   "source": [
    "#All intrest rates at which loan is being given\n",
    "df['interest_rate'].unique()"
   ]
  },
  {
   "cell_type": "code",
   "execution_count": 48,
   "id": "801e6d4f-7b8e-44e8-bde3-c8da671ff63c",
   "metadata": {},
   "outputs": [
    {
     "data": {
      "text/plain": [
       "array([ 8880, 13720,  2090, ...,  8560,  1720,  1180])"
      ]
     },
     "execution_count": 48,
     "metadata": {},
     "output_type": "execute_result"
    }
   ],
   "source": [
    "#All the unique principal amounts\n",
    "df['principal_loan_amount'].unique()"
   ]
  },
  {
   "cell_type": "code",
   "execution_count": 57,
   "id": "7fe14a41-31ea-4a0d-86b0-b8aed972d1a4",
   "metadata": {},
   "outputs": [
    {
     "data": {
      "text/plain": [
       "array(['2023-03-06', '2023-05-10', '2023-02-16', '2023-02-26',\n",
       "       '2023-04-13', '2023-02-22', '2023-04-21', '2023-05-27',\n",
       "       '2023-01-10', '2023-03-17', '2023-04-29', '2023-01-13',\n",
       "       '2023-01-17', '2023-06-24', '2023-04-23', '2023-04-17',\n",
       "       '2023-01-06', '2023-03-20', '2023-03-09', '2023-02-20',\n",
       "       '2023-02-05', '2023-04-03', '2023-06-26', '2023-05-31',\n",
       "       '2023-05-11', '2023-04-08', '2023-06-27', '2023-03-10',\n",
       "       '2023-01-24', '2023-03-02', '2023-02-07', '2023-02-01',\n",
       "       '2023-01-08', '2023-05-18', '2023-04-12', '2023-05-05',\n",
       "       '2023-06-10', '2023-04-14', '2023-05-14', '2023-02-08',\n",
       "       '2023-06-29', '2023-03-25', '2023-04-15', '2023-04-07',\n",
       "       '2023-01-22', '2023-05-07', '2023-06-14', '2023-06-15',\n",
       "       '2023-05-23', '2023-06-02', '2023-02-17', '2023-05-22',\n",
       "       '2023-05-24', '2023-06-09', '2023-05-28', '2023-06-07',\n",
       "       '2023-02-24', '2023-01-03', '2023-02-18', '2023-05-13',\n",
       "       '2023-03-08', '2023-03-16', '2023-01-16', '2023-04-02',\n",
       "       '2023-04-22', '2023-01-20', '2023-03-11', '2023-05-29',\n",
       "       '2023-01-07', '2023-01-29', '2023-03-15', '2023-04-11',\n",
       "       '2023-05-04', '2023-05-15', '2023-03-26', '2023-03-04',\n",
       "       '2023-02-15', '2023-02-11', '2023-03-21', '2023-01-21',\n",
       "       '2023-04-01', '2023-01-19', '2023-04-04', '2023-03-18',\n",
       "       '2023-01-31', '2023-05-12', '2023-04-10', '2023-05-19',\n",
       "       '2023-05-06', '2023-01-14', '2023-06-01', '2023-06-28',\n",
       "       '2023-05-30', '2023-01-09', '2023-01-18', '2023-06-13',\n",
       "       '2023-04-05', '2023-02-28', '2023-02-13', '2023-05-03',\n",
       "       '2023-06-23', '2023-06-25', '2023-02-10', '2023-01-11',\n",
       "       '2023-06-21', '2023-02-21', '2023-06-08', '2023-03-31',\n",
       "       '2023-01-30', '2023-06-17', '2023-04-16', '2023-03-12',\n",
       "       '2023-01-26', '2023-04-30', '2023-06-16', '2023-02-03',\n",
       "       '2023-06-06', '2023-03-24', '2023-05-26', '2023-03-27',\n",
       "       '2023-02-27', '2023-02-06', '2023-03-22', '2023-05-17',\n",
       "       '2023-01-02', '2023-03-07', '2023-05-09', '2023-03-29',\n",
       "       '2023-03-03', '2023-04-27', '2023-03-14', '2023-01-25',\n",
       "       '2023-01-27', '2023-04-26', '2023-04-06', '2023-05-21',\n",
       "       '2023-03-30', '2023-02-19', '2023-04-20', '2023-03-28',\n",
       "       '2023-05-01', '2023-02-12', '2023-02-09', '2023-05-16',\n",
       "       '2023-06-05', '2023-04-28', '2023-01-12', '2023-02-04',\n",
       "       '2023-05-25', '2023-03-05', '2023-03-13', '2023-06-03',\n",
       "       '2023-05-02', '2023-04-19', '2023-06-20', '2023-01-23',\n",
       "       '2023-02-14', '2023-04-25', '2023-03-01', '2023-04-18',\n",
       "       '2023-04-09', '2023-06-04', '2023-06-12', '2023-02-23',\n",
       "       '2023-03-19', '2023-02-25', '2023-05-08', '2023-06-11',\n",
       "       '2023-06-18', '2023-04-24', '2023-01-01', '2023-06-19',\n",
       "       '2023-01-04', '2023-02-02', '2023-06-22', '2023-01-28',\n",
       "       '2023-01-15', '2023-01-05', '2023-03-23', '2023-05-20'],\n",
       "      dtype=object)"
      ]
     },
     "execution_count": 57,
     "metadata": {},
     "output_type": "execute_result"
    }
   ],
   "source": [
    "#All unique dates\n",
    "df['request_date'].unique()"
   ]
  },
  {
   "cell_type": "code",
   "execution_count": 58,
   "id": "cd6752eb-7159-4801-bf00-2c64c2664bbe",
   "metadata": {},
   "outputs": [
    {
     "data": {
      "text/plain": [
       "array(['WEB', 'MOBILE_APP', 'AGENT', 'AFFILIATE', 'DIRECT_SELLING',\n",
       "       'website_revamped', 'ANDROID_V2', 'ANDROID_V3', 'apple_new_v3'],\n",
       "      dtype=object)"
      ]
     },
     "execution_count": 58,
     "metadata": {},
     "output_type": "execute_result"
    }
   ],
   "source": [
    "#different loan channels in dataset\n",
    "df['loan_channel'].unique()"
   ]
  },
  {
   "cell_type": "code",
   "execution_count": 61,
   "id": "7f2e7d5f-34e1-413e-a0df-a119188ec8ae",
   "metadata": {},
   "outputs": [
    {
     "data": {
      "text/plain": [
       "array([True, nan], dtype=object)"
      ]
     },
     "execution_count": 61,
     "metadata": {},
     "output_type": "execute_result"
    }
   ],
   "source": [
    "df['is_approved'].unique()"
   ]
  },
  {
   "cell_type": "code",
   "execution_count": 62,
   "id": "b13a5ac9-7032-4ae3-b263-a7cf29db6301",
   "metadata": {},
   "outputs": [
    {
     "data": {
      "text/plain": [
       "array([nan, True], dtype=object)"
      ]
     },
     "execution_count": 62,
     "metadata": {},
     "output_type": "execute_result"
    }
   ],
   "source": [
    "df['is_default'].unique()"
   ]
  },
  {
   "cell_type": "code",
   "execution_count": 65,
   "id": "839e7a4d-bfe4-4076-b8b8-7834329197fa",
   "metadata": {},
   "outputs": [
    {
     "data": {
      "text/plain": [
       "array([6100, 5150, 6030, 2150, 5810, 4780, 3510, 3090, 5520, 2830, 2190,\n",
       "       5720, 3470, 2790, 5470, 2110, 4330, 5080, 6090, 4240, 5060, 5570,\n",
       "       4540, 4200, 2380, 2500, 5880, 2780, 5160, 3120, 2290, 4400, 5260,\n",
       "       5620, 5360, 2870, 3370, 2200, 5940, 2800, 5690, 3100, 3600, 3000,\n",
       "       4710, 6420, 4380, 4150, 6470, 3830, 3980, 3080, 4440, 3500, 5250,\n",
       "       4570, 2950, 6360, 5320, 5010, 5490, 2980, 4230, 2060, 4760, 5200,\n",
       "       5120, 5440, 3680, 3720, 2340, 2050, 6260, 4910, 2520, 5180, 6070,\n",
       "       3440, 3270, 3860, 4830, 4740, 3030, 4010, 4390, 5040, 4500, 6280,\n",
       "       3750, 4430, 4270, 4450, 3760, 3220, 6240, 4180, 6060, 5030, 3850,\n",
       "       2900, 5300, 4000, 2580, 2590, 2260, 5770, 2460, 5680, 2430, 2270,\n",
       "       3310, 6250, 4990, 2370, 5450, 2170, 5020, 3970, 5290, 4480, 2440,\n",
       "       2030, 5050, 6320, 4620, 2670, 3530, 3420, 6460, 5560, 3060, 5580,\n",
       "       2010, 2420, 4610, 3520, 6270, 5370, 5590, 6150, 2490, 2480, 6410,\n",
       "       5330, 5780, 3620, 6110, 5910, 5340, 2630, 2550, 3930, 3480, 5480,\n",
       "       5350, 2120, 3630, 5950, 2610, 4850, 4520, 6140, 3190, 4030, 4640,\n",
       "       3870, 5090, 4470, 3300, 3250, 6170, 5900, 4490, 5700, 2660, 3790,\n",
       "       5930, 3450, 4250, 4090, 3290, 3230, 3990, 6050, 3280, 2570, 5540,\n",
       "       4940, 4960, 5850, 4170, 6010, 3360, 2180, 2760, 2740, 5100, 4360,\n",
       "       5800, 5420, 3780, 5600, 4100, 4700, 5660, 4120, 2650, 4970, 4600,\n",
       "       3260, 3160, 2600, 5790, 3580, 4870, 6130, 6340, 3150, 2850, 2880,\n",
       "       2560, 3840, 5890, 6310, 5230, 6290, 2160, 2330, 6330, 5390, 3430,\n",
       "       4630, 5110, 3010, 4260, 4790, 2300, 2040, 6200, 4820, 6210, 5970,\n",
       "       5980, 5140, 2990, 2100, 4530, 3670, 3610, 4770, 5430, 3240, 2640,\n",
       "       5990, 2890, 4930, 4840, 5670, 2080, 6380, 3140, 6400, 2810, 4920,\n",
       "       3900, 2400, 6390, 3020, 4060, 4580, 5240, 3200, 2210, 5550, 2000,\n",
       "       5710, 2940, 2770, 2250, 2960, 6180, 3810, 4950, 3590, 6440, 4220,\n",
       "       4070, 5380, 5210, 3180, 4900, 3960, 5530, 3380, 4320, 2680, 2700,\n",
       "       4290, 2750, 4340, 3700, 4810, 5130, 2720, 2020, 2540, 4190, 6480,\n",
       "       4980, 2070, 2730, 6370, 5860, 6300, 3660, 4670, 4660, 2970, 5220,\n",
       "       2310, 3410, 2530, 3550, 5840, 3650, 5830, 5410, 3800, 6020, 5510,\n",
       "       4730, 3330, 3570, 2840, 5610, 3070, 4690, 3340, 4210, 3950, 2130,\n",
       "       2930, 4460, 6430, 2360, 4350, 3170, 5270, 5170, 4020, 2710, 3460,\n",
       "       3050, 4590, 4280, 5310, 5500, 3640, 6490, 5070, 2470, 5190, 2240,\n",
       "       5870, 5640, 3210, 4880, 6160, 2860, 2280, 4550, 5000, 3390, 3890,\n",
       "       2410, 4650, 4300, 4040, 4370, 3910, 6120, 5740, 6000, 3110, 2910,\n",
       "       4560, 5730, 3350, 4860, 4420, 3920, 6350, 5400, 6040, 4310, 3880,\n",
       "       3490, 4750, 3320, 5760, 3560, 4410, 5820, 5460, 3130, 6220, 3400,\n",
       "       4680, 2390, 3540, 3940, 4890, 5920, 2230, 2820, 2140, 4510, 6080,\n",
       "       2220, 3730, 3820, 2920, 6190, 4050, 3710, 3770, 5960, 4130, 4110,\n",
       "       5750, 3040, 4140, 4160, 4800, 3740, 2690, 5280, 4080, 2450, 5650,\n",
       "       6450, 3690, 2320, 5630, 2620, 2510, 6230, 4720, 2350, 2090, 6500])"
      ]
     },
     "execution_count": 65,
     "metadata": {},
     "output_type": "execute_result"
    }
   ],
   "source": [
    "df['customer_monthly_income'].unique()"
   ]
  },
  {
   "cell_type": "code",
   "execution_count": 66,
   "id": "40ccff69-9462-4b7d-b957-f30584dd9c2d",
   "metadata": {},
   "outputs": [
    {
     "data": {
      "text/plain": [
       "array([30, 39, 43, 54, 28, 42, 49, 35, 44, 47, 22, 56, 53, 45, 46, 59, 50,\n",
       "       23, 48, 58, 31, 41, 34, 24, 37, 40, 51, 57, 36, 38, 52, 33, 25, 29,\n",
       "       32, 26, 27, 60, 55])"
      ]
     },
     "execution_count": 66,
     "metadata": {},
     "output_type": "execute_result"
    }
   ],
   "source": [
    "#Unique ages\n",
    "df['customer_age'].unique()"
   ]
  },
  {
   "cell_type": "code",
   "execution_count": 67,
   "id": "9cfb60dd-c9bb-485a-9595-5ed012fe50b8",
   "metadata": {},
   "outputs": [
    {
     "data": {
      "text/plain": [
       "array(['Male', 'Female', 'M', 'F'], dtype=object)"
      ]
     },
     "execution_count": 67,
     "metadata": {},
     "output_type": "execute_result"
    }
   ],
   "source": [
    "#Genders in dataset (needs to be fixed )\n",
    "df['customer_gender'].unique()"
   ]
  },
  {
   "cell_type": "code",
   "execution_count": 68,
   "id": "60cbeed9-f48b-4fe6-8faf-20e9cd4fdca0",
   "metadata": {},
   "outputs": [
    {
     "data": {
      "text/plain": [
       "array([3, 0, 2, 1, 4, 5])"
      ]
     },
     "execution_count": 68,
     "metadata": {},
     "output_type": "execute_result"
    }
   ],
   "source": [
    "#Range of credit score\n",
    "df['customer_credit_score'].unique()"
   ]
  },
  {
   "cell_type": "code",
   "execution_count": 69,
   "id": "7d7661e9-cab9-4f5d-8dd4-b699ebcdf6f9",
   "metadata": {},
   "outputs": [
    {
     "data": {
      "text/plain": [
       "array([10007, 10004, 10003, 10008, 10009, 10002, 10005, 10006, 10001])"
      ]
     },
     "execution_count": 69,
     "metadata": {},
     "output_type": "execute_result"
    }
   ],
   "source": [
    "df['customer_zip_code'].unique()"
   ]
  },
  {
   "cell_type": "code",
   "execution_count": 35,
   "id": "677a868f-fdf8-43b5-8866-6f4a566db888",
   "metadata": {},
   "outputs": [
    {
     "data": {
      "text/plain": [
       "10.0    2798\n",
       "9.0     2774\n",
       "9.5     2689\n",
       "8.5     2664\n",
       "8.0     2629\n",
       "7.5     1609\n",
       "Name: interest_rate, dtype: int64"
      ]
     },
     "execution_count": 35,
     "metadata": {},
     "output_type": "execute_result"
    }
   ],
   "source": [
    "#No. of loans given at what interest rates\n",
    "df['interest_rate'].value_counts()"
   ]
  },
  {
   "cell_type": "code",
   "execution_count": 70,
   "id": "f005dd3f-ade0-42e8-99fe-e049ab17b61a",
   "metadata": {},
   "outputs": [
    {
     "data": {
      "text/plain": [
       "2023-04-15    175\n",
       "2023-04-16    152\n",
       "2023-02-10    104\n",
       "2023-03-04    104\n",
       "2023-06-23    101\n",
       "             ... \n",
       "2023-06-12     63\n",
       "2023-06-11     63\n",
       "2023-06-22     62\n",
       "2023-01-05     62\n",
       "2023-04-03     57\n",
       "Name: request_date, Length: 180, dtype: int64"
      ]
     },
     "execution_count": 70,
     "metadata": {},
     "output_type": "execute_result"
    }
   ],
   "source": [
    "#Hown many loan applications on a respective date\n",
    "df['request_date'].value_counts()"
   ]
  },
  {
   "cell_type": "code",
   "execution_count": 71,
   "id": "f8423780-d412-419e-9023-34131adf66cc",
   "metadata": {},
   "outputs": [
    {
     "data": {
      "text/plain": [
       "True    11771\n",
       "Name: is_approved, dtype: int64"
      ]
     },
     "execution_count": 71,
     "metadata": {},
     "output_type": "execute_result"
    }
   ],
   "source": [
    "df['is_approved'].value_counts()"
   ]
  },
  {
   "cell_type": "code",
   "execution_count": 72,
   "id": "e3f45665-505d-4d56-80e6-4cd690c186ca",
   "metadata": {},
   "outputs": [
    {
     "data": {
      "text/plain": [
       "True    545\n",
       "Name: is_default, dtype: int64"
      ]
     },
     "execution_count": 72,
     "metadata": {},
     "output_type": "execute_result"
    }
   ],
   "source": [
    "df['is_default'].value_counts()"
   ]
  },
  {
   "cell_type": "code",
   "execution_count": 73,
   "id": "da82be04-5096-42f4-90b3-f167220132db",
   "metadata": {},
   "outputs": [
    {
     "data": {
      "text/plain": [
       "5660    51\n",
       "2800    51\n",
       "3580    50\n",
       "5100    49\n",
       "2820    48\n",
       "        ..\n",
       "4040    19\n",
       "4410    19\n",
       "4350    19\n",
       "5380    16\n",
       "6500     2\n",
       "Name: customer_monthly_income, Length: 451, dtype: int64"
      ]
     },
     "execution_count": 73,
     "metadata": {},
     "output_type": "execute_result"
    }
   ],
   "source": [
    "#applicants with same income\n",
    "df['customer_monthly_income'].value_counts()"
   ]
  },
  {
   "cell_type": "code",
   "execution_count": 74,
   "id": "c4946852-926b-45c4-9216-fb17dc594fa8",
   "metadata": {},
   "outputs": [
    {
     "data": {
      "text/plain": [
       "45    448\n",
       "31    428\n",
       "44    422\n",
       "59    418\n",
       "28    410\n",
       "48    410\n",
       "54    406\n",
       "33    403\n",
       "29    403\n",
       "50    399\n",
       "35    399\n",
       "47    399\n",
       "27    397\n",
       "40    396\n",
       "37    396\n",
       "34    394\n",
       "58    393\n",
       "57    392\n",
       "32    392\n",
       "49    388\n",
       "46    387\n",
       "52    383\n",
       "26    382\n",
       "53    379\n",
       "41    379\n",
       "22    379\n",
       "25    378\n",
       "55    378\n",
       "38    377\n",
       "39    377\n",
       "60    376\n",
       "51    374\n",
       "43    373\n",
       "42    368\n",
       "23    365\n",
       "30    355\n",
       "56    354\n",
       "36    353\n",
       "24    353\n",
       "Name: customer_age, dtype: int64"
      ]
     },
     "execution_count": 74,
     "metadata": {},
     "output_type": "execute_result"
    }
   ],
   "source": [
    "df['customer_age'].value_counts()"
   ]
  },
  {
   "cell_type": "code",
   "execution_count": 75,
   "id": "2db74a2a-a9bd-4d9e-8246-dc46aeb6db18",
   "metadata": {},
   "outputs": [
    {
     "data": {
      "text/plain": [
       "Female    7111\n",
       "Male      7101\n",
       "M          518\n",
       "F          433\n",
       "Name: customer_gender, dtype: int64"
      ]
     },
     "execution_count": 75,
     "metadata": {},
     "output_type": "execute_result"
    }
   ],
   "source": [
    "#How many males and how many females\n",
    "df['customer_gender'].value_counts()"
   ]
  },
  {
   "cell_type": "code",
   "execution_count": 76,
   "id": "8c69aba2-c817-40ad-9f7b-82689283bdd4",
   "metadata": {},
   "outputs": [
    {
     "data": {
      "text/plain": [
       "3    4889\n",
       "5    3935\n",
       "4    3828\n",
       "1     841\n",
       "0     837\n",
       "2     833\n",
       "Name: customer_credit_score, dtype: int64"
      ]
     },
     "execution_count": 76,
     "metadata": {},
     "output_type": "execute_result"
    }
   ],
   "source": [
    "#No. of people with each credit score\n",
    "df['customer_credit_score'].value_counts()"
   ]
  },
  {
   "cell_type": "code",
   "execution_count": 77,
   "id": "78162be3-9f50-454c-9a12-c3ec4ff2366b",
   "metadata": {},
   "outputs": [
    {
     "data": {
      "text/plain": [
       "10003    2278\n",
       "10006    2163\n",
       "10005    2140\n",
       "10008    2103\n",
       "10004    2097\n",
       "10009    2050\n",
       "10007    1971\n",
       "10002     190\n",
       "10001     171\n",
       "Name: customer_zip_code, dtype: int64"
      ]
     },
     "execution_count": 77,
     "metadata": {},
     "output_type": "execute_result"
    }
   ],
   "source": [
    "df['customer_zip_code'].value_counts()"
   ]
  },
  {
   "cell_type": "code",
   "execution_count": 59,
   "id": "96f6abed-3be0-4135-9d1e-b9a955abafa3",
   "metadata": {},
   "outputs": [
    {
     "data": {
      "text/plain": [
       "WEB                 3165\n",
       "AGENT               3046\n",
       "AFFILIATE           3041\n",
       "DIRECT_SELLING      2899\n",
       "MOBILE_APP          2791\n",
       "website_revamped      84\n",
       "ANDROID_V3            58\n",
       "apple_new_v3          40\n",
       "ANDROID_V2            39\n",
       "Name: loan_channel, dtype: int64"
      ]
     },
     "execution_count": 59,
     "metadata": {},
     "output_type": "execute_result"
    }
   ],
   "source": [
    "df['loan_channel'].value_counts()"
   ]
  },
  {
   "cell_type": "code",
   "execution_count": 60,
   "id": "f89d177f-dbdb-4e24-9ca4-f371f75f3843",
   "metadata": {},
   "outputs": [
    {
     "data": {
      "text/plain": [
       "2023-04-15    175\n",
       "2023-04-16    152\n",
       "2023-02-10    104\n",
       "2023-03-04    104\n",
       "2023-06-23    101\n",
       "             ... \n",
       "2023-06-12     63\n",
       "2023-06-11     63\n",
       "2023-06-22     62\n",
       "2023-01-05     62\n",
       "2023-04-03     57\n",
       "Name: request_date, Length: 180, dtype: int64"
      ]
     },
     "execution_count": 60,
     "metadata": {},
     "output_type": "execute_result"
    }
   ],
   "source": [
    "df['request_date'].value_counts()"
   ]
  },
  {
   "cell_type": "code",
   "execution_count": 64,
   "id": "d8ac9344-5cd1-4049-9661-8bd3ee01f295",
   "metadata": {},
   "outputs": [
    {
     "data": {
      "text/plain": [
       "True    11771\n",
       "Name: is_approved, dtype: int64"
      ]
     },
     "execution_count": 64,
     "metadata": {},
     "output_type": "execute_result"
    }
   ],
   "source": [
    "df['is_approved'].value_counts()"
   ]
  },
  {
   "cell_type": "code",
   "execution_count": 63,
   "id": "4e11cef0-7530-49b9-84be-2b173b8c3593",
   "metadata": {},
   "outputs": [
    {
     "data": {
      "text/plain": [
       "True    545\n",
       "Name: is_default, dtype: int64"
      ]
     },
     "execution_count": 63,
     "metadata": {},
     "output_type": "execute_result"
    }
   ],
   "source": [
    "df['is_default'].value_counts()"
   ]
  },
  {
   "cell_type": "code",
   "execution_count": 45,
   "id": "c6c20856-e119-4b2b-8602-5f2355e4928e",
   "metadata": {},
   "outputs": [
    {
     "data": {
      "text/plain": [
       "loan_id                        0\n",
       "principal_loan_amount          0\n",
       "request_date                   0\n",
       "interest_rate                  0\n",
       "loan_channel                   0\n",
       "is_approved                 3392\n",
       "is_default                 14618\n",
       "customer_monthly_income        0\n",
       "customer_age                   0\n",
       "customer_gender                0\n",
       "customer_credit_score          0\n",
       "customer_zip_code              0\n",
       "dtype: int64"
      ]
     },
     "execution_count": 45,
     "metadata": {},
     "output_type": "execute_result"
    }
   ],
   "source": [
    "#column wise missing values identification\n",
    "df.isnull().sum()"
   ]
  },
  {
   "cell_type": "code",
   "execution_count": 43,
   "id": "6f034173-74e5-4d4b-94bd-40760606682a",
   "metadata": {},
   "outputs": [
    {
     "data": {
      "text/plain": [
       "3392"
      ]
     },
     "execution_count": 43,
     "metadata": {},
     "output_type": "execute_result"
    }
   ],
   "source": [
    "#No. of missing values in Column \"is_approved\"\n",
    "df['is_approved'].isnull().sum()"
   ]
  },
  {
   "cell_type": "code",
   "execution_count": 47,
   "id": "e4bb6af5-5a29-467d-abf0-7f19b02e7324",
   "metadata": {},
   "outputs": [
    {
     "data": {
      "text/plain": [
       "14618"
      ]
     },
     "execution_count": 47,
     "metadata": {},
     "output_type": "execute_result"
    }
   ],
   "source": [
    "#No. of missing values in Column \"is_default\"\n",
    "df['is_default'].isnull().sum()"
   ]
  },
  {
   "cell_type": "code",
   "execution_count": 87,
   "id": "dfb95f48-57f7-42d3-a473-1b0a8c9aa1e2",
   "metadata": {},
   "outputs": [
    {
     "data": {
      "text/plain": [
       "True"
      ]
     },
     "execution_count": 87,
     "metadata": {},
     "output_type": "execute_result"
    }
   ],
   "source": [
    "#Are there any duplicate columns in the dataset\n",
    "df.duplicated().any()\n"
   ]
  },
  {
   "cell_type": "code",
   "execution_count": 90,
   "id": "2aed81e2-169a-4ff0-8716-96d02f7b80be",
   "metadata": {},
   "outputs": [
    {
     "name": "stdout",
     "output_type": "stream",
     "text": [
      "There are 163 duplicate rows in the DataFrame\n",
      "\n"
     ]
    }
   ],
   "source": [
    "if df.duplicated().any():\n",
    "    print('There are', df.duplicated().sum(), 'duplicate rows in the DataFrame\\n')\n",
    "else:\n",
    "    print('There are no duplicate rows in the DataFrame\\n')"
   ]
  },
  {
   "cell_type": "code",
   "execution_count": 95,
   "id": "cea7e40c-be45-49f8-81a5-74da9e2b7613",
   "metadata": {},
   "outputs": [
    {
     "data": {
      "text/plain": [
       "loan_id                    False\n",
       "principal_loan_amount      False\n",
       "request_date               False\n",
       "interest_rate              False\n",
       "loan_channel               False\n",
       "is_approved                 True\n",
       "is_default                  True\n",
       "customer_monthly_income    False\n",
       "customer_age               False\n",
       "customer_gender            False\n",
       "customer_credit_score      False\n",
       "customer_zip_code          False\n",
       "dtype: bool"
      ]
     },
     "execution_count": 95,
     "metadata": {},
     "output_type": "execute_result"
    }
   ],
   "source": [
    "df.isna().any()"
   ]
  },
  {
   "cell_type": "markdown",
   "id": "1e1117c3-9c68-4e7a-9c11-29968336329f",
   "metadata": {},
   "source": [
    "Total rows :  15163 \n",
    "\n",
    "There are 163 duplicate rows in the DataFrame\n",
    "\n",
    "There are NaN values in the DataFrame\n",
    "is_approved    True\n",
    "is_default     True\n",
    "dtype: bool \n",
    "\n",
    "principal_loan_amount: 1000 to 15000\n",
    "\n",
    "request_date: 2023-01-01 to 2023-06-29\n",
    "\n",
    "interest_rate: 7.5 to 10.0\n",
    "\n",
    "loan_channel: ['WEB' 'MOBILE_APP' 'AGENT' 'AFFILIATE' 'DIRECT_SELLING'\n",
    " 'website_revamped' 'ANDROID_V2' 'ANDROID_V3' 'apple_new_v3']\n",
    " \n",
    "is_approved: [True nan]\n",
    "\n",
    "is_default: [nan True]\n",
    "\n",
    "customer_monthly_income: 2000 to 6500\n",
    "\n",
    "customer_age: 22 to 60\n",
    "\n",
    "customer_gender: ['Male' 'Female' 'M' 'F']"
   ]
  },
  {
   "cell_type": "code",
   "execution_count": 97,
   "id": "8bfdd3b3-479f-4b80-bb51-8cd2ec00fbf5",
   "metadata": {},
   "outputs": [],
   "source": [
    "#Data Cleaning\n",
    "\n",
    "#Dropping duplicate rows\n",
    "df=df.drop_duplicates()"
   ]
  },
  {
   "cell_type": "code",
   "execution_count": 100,
   "id": "596881b7-9859-41bc-a489-5427f08f561d",
   "metadata": {},
   "outputs": [
    {
     "name": "stdout",
     "output_type": "stream",
     "text": [
      "Total rows : 15000\n"
     ]
    }
   ],
   "source": [
    "print(\"Total rows :\", df.shape[0])"
   ]
  },
  {
   "cell_type": "code",
   "execution_count": 108,
   "id": "d13ab776-0601-4d24-9393-c5a74ce01e8c",
   "metadata": {},
   "outputs": [
    {
     "name": "stdout",
     "output_type": "stream",
     "text": [
      "There are no duplicate rows in data frame\n"
     ]
    }
   ],
   "source": [
    "if df.duplicated().any():\n",
    "    print(\"There are\",df.duplicated().sum(),\"duplicated rows in data frame\")\n",
    "else:\n",
    "    print(\"There are no duplicate rows in data frame\")"
   ]
  },
  {
   "cell_type": "code",
   "execution_count": 119,
   "id": "4fb18845-ae30-49d6-ad84-9340a8c9453e",
   "metadata": {},
   "outputs": [
    {
     "name": "stdout",
     "output_type": "stream",
     "text": [
      "There are no Nan values in data farme\n"
     ]
    }
   ],
   "source": [
    "#Changing empty cells in columns to False\n",
    "df['is_approved'].fillna(False, inplace=True)\n",
    "df['is_default'].fillna(False, inplace=True)\n",
    "\n",
    "if df.isnull().any().any():\n",
    "    print(\"There are\", df.isnull().sum().sum(),\"NAN VALUES in data set\")\n",
    "else:\n",
    "    print(\"There are no Nan values in data farme\")"
   ]
  },
  {
   "cell_type": "code",
   "execution_count": 116,
   "id": "8043bb2f-1cd4-4f50-b18c-fb2433d2ba9c",
   "metadata": {},
   "outputs": [
    {
     "data": {
      "text/plain": [
       "0"
      ]
     },
     "execution_count": 116,
     "metadata": {},
     "output_type": "execute_result"
    }
   ],
   "source": []
  },
  {
   "cell_type": "code",
   "execution_count": null,
   "id": "cc78de1b-9ad3-4203-82f8-4b5bbf78dc2b",
   "metadata": {},
   "outputs": [],
   "source": []
  }
 ],
 "metadata": {
  "kernelspec": {
   "display_name": "Python 3 (ipykernel)",
   "language": "python",
   "name": "python3"
  },
  "language_info": {
   "codemirror_mode": {
    "name": "ipython",
    "version": 3
   },
   "file_extension": ".py",
   "mimetype": "text/x-python",
   "name": "python",
   "nbconvert_exporter": "python",
   "pygments_lexer": "ipython3",
   "version": "3.8.10"
  }
 },
 "nbformat": 4,
 "nbformat_minor": 5
}
