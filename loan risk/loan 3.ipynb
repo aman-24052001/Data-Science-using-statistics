{
 "cells": [
  {
   "cell_type": "code",
   "execution_count": 1,
   "id": "889c6cdb-0db0-4f73-9bab-042b8733dc0b",
   "metadata": {},
   "outputs": [],
   "source": [
    "import pandas as pd\n",
    "import numpy as np\n",
    "import scipy.stats as stats"
   ]
  },
  {
   "cell_type": "code",
   "execution_count": 2,
   "id": "42a3133d-09f0-427c-af2c-1a79a884699e",
   "metadata": {},
   "outputs": [],
   "source": [
    "import statsmodels.api as sm"
   ]
  },
  {
   "cell_type": "code",
   "execution_count": 3,
   "id": "b9d7a0b7-5996-4b94-8c48-c3e3cf551e8a",
   "metadata": {},
   "outputs": [],
   "source": [
    "df=pd.read_csv(\"loan-dataset-clean.csv\")"
   ]
  },
  {
   "cell_type": "code",
   "execution_count": 4,
   "id": "88a18d63-5481-4a07-986c-dc6525aa41e0",
   "metadata": {},
   "outputs": [
    {
     "name": "stdout",
     "output_type": "stream",
     "text": [
      "Warning: Maximum number of iterations has been exceeded.\n",
      "         Current function value: 0.045224\n",
      "         Iterations: 35\n"
     ]
    },
    {
     "name": "stderr",
     "output_type": "stream",
     "text": [
      "/home/labsuser/.local/lib/python3.8/site-packages/statsmodels/base/model.py:604: ConvergenceWarning: Maximum Likelihood optimization failed to converge. Check mle_retvals\n",
      "  warnings.warn(\"Maximum Likelihood optimization failed to \"\n"
     ]
    },
    {
     "name": "stdout",
     "output_type": "stream",
     "text": [
      "                           Logit Regression Results                           \n",
      "==============================================================================\n",
      "Dep. Variable:             is_default   No. Observations:                15000\n",
      "Model:                          Logit   Df Residuals:                    14997\n",
      "Method:                           MLE   Df Model:                            2\n",
      "Date:                Sun, 25 Jun 2023   Pseudo R-squ.:                  0.7087\n",
      "Time:                        11:45:12   Log-Likelihood:                -678.37\n",
      "converged:                      False   LL-Null:                       -2328.5\n",
      "Covariance Type:            nonrobust   LLR p-value:                     0.000\n",
      "===========================================================================================\n",
      "                              coef    std err          z      P>|z|      [0.025      0.975]\n",
      "-------------------------------------------------------------------------------------------\n",
      "const                    3.762e+04   1705.653     22.057      0.000    3.43e+04     4.1e+04\n",
      "customer_monthly_income -1.713e-05   5.18e-05     -0.331      0.741      -0.000    8.44e-05\n",
      "customer_zip_code          -3.7613      0.171    -22.058      0.000      -4.096      -3.427\n",
      "===========================================================================================\n",
      "\n",
      "Possibly complete quasi-separation: A fraction 0.69 of observations can be\n",
      "perfectly predicted. This might indicate that there is complete\n",
      "quasi-separation. In this case some parameters will not be identified.\n"
     ]
    }
   ],
   "source": [
    "X = df[['customer_monthly_income', 'customer_zip_code']]\n",
    "X = sm.add_constant(X)\n",
    "y = df['is_default']\n",
    "model = sm.Logit(y, X).fit()\n",
    "print(model.summary())"
   ]
  },
  {
   "cell_type": "code",
   "execution_count": null,
   "id": "ad3d36b0-22ff-432f-9c8c-13a6f67bd0b6",
   "metadata": {},
   "outputs": [],
   "source": []
  }
 ],
 "metadata": {
  "kernelspec": {
   "display_name": "Python 3 (ipykernel)",
   "language": "python",
   "name": "python3"
  },
  "language_info": {
   "codemirror_mode": {
    "name": "ipython",
    "version": 3
   },
   "file_extension": ".py",
   "mimetype": "text/x-python",
   "name": "python",
   "nbconvert_exporter": "python",
   "pygments_lexer": "ipython3",
   "version": "3.8.10"
  }
 },
 "nbformat": 4,
 "nbformat_minor": 5
}
