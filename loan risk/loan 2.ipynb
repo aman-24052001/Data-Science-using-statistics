{
 "cells": [
  {
   "cell_type": "code",
   "execution_count": 1,
   "id": "29a91ce5-90d2-4d4e-aa0d-9b3da23b997a",
   "metadata": {},
   "outputs": [],
   "source": [
    "import pandas as pd\n",
    "import numpy as np\n",
    "import scipy.stats as stats"
   ]
  },
  {
   "cell_type": "code",
   "execution_count": 2,
   "id": "7908857d-f359-4e8f-a1e8-50f13a74976a",
   "metadata": {},
   "outputs": [],
   "source": [
    "df=pd.read_csv(\"loan-dataset-clean.csv\")"
   ]
  },
  {
   "cell_type": "code",
   "execution_count": 3,
   "id": "ed031249-9f76-4c78-b017-4ef8048fa4f1",
   "metadata": {},
   "outputs": [
    {
     "data": {
      "text/html": [
       "<div>\n",
       "<style scoped>\n",
       "    .dataframe tbody tr th:only-of-type {\n",
       "        vertical-align: middle;\n",
       "    }\n",
       "\n",
       "    .dataframe tbody tr th {\n",
       "        vertical-align: top;\n",
       "    }\n",
       "\n",
       "    .dataframe thead th {\n",
       "        text-align: right;\n",
       "    }\n",
       "</style>\n",
       "<table border=\"1\" class=\"dataframe\">\n",
       "  <thead>\n",
       "    <tr style=\"text-align: right;\">\n",
       "      <th></th>\n",
       "      <th>loan_id</th>\n",
       "      <th>principal_loan_amount</th>\n",
       "      <th>request_date</th>\n",
       "      <th>interest_rate</th>\n",
       "      <th>loan_channel</th>\n",
       "      <th>is_approved</th>\n",
       "      <th>is_default</th>\n",
       "      <th>customer_monthly_income</th>\n",
       "      <th>customer_age</th>\n",
       "      <th>customer_gender</th>\n",
       "      <th>customer_credit_score</th>\n",
       "      <th>customer_zip_code</th>\n",
       "    </tr>\n",
       "  </thead>\n",
       "  <tbody>\n",
       "    <tr>\n",
       "      <th>0</th>\n",
       "      <td>70280c1b-4339-4949-ba69-ad2a6cb6b782</td>\n",
       "      <td>8880</td>\n",
       "      <td>2023-03-06</td>\n",
       "      <td>9.0</td>\n",
       "      <td>WEB</td>\n",
       "      <td>True</td>\n",
       "      <td>False</td>\n",
       "      <td>6100</td>\n",
       "      <td>30</td>\n",
       "      <td>M</td>\n",
       "      <td>3</td>\n",
       "      <td>10007</td>\n",
       "    </tr>\n",
       "    <tr>\n",
       "      <th>1</th>\n",
       "      <td>8a550559-9749-491b-b6aa-7188bc0a488f</td>\n",
       "      <td>13720</td>\n",
       "      <td>2023-05-10</td>\n",
       "      <td>10.0</td>\n",
       "      <td>MOBILE_APP</td>\n",
       "      <td>True</td>\n",
       "      <td>False</td>\n",
       "      <td>5150</td>\n",
       "      <td>39</td>\n",
       "      <td>F</td>\n",
       "      <td>3</td>\n",
       "      <td>10004</td>\n",
       "    </tr>\n",
       "    <tr>\n",
       "      <th>2</th>\n",
       "      <td>5644d27e-e05e-4a40-bef3-64187892338f</td>\n",
       "      <td>2090</td>\n",
       "      <td>2023-02-16</td>\n",
       "      <td>7.5</td>\n",
       "      <td>AGENT</td>\n",
       "      <td>True</td>\n",
       "      <td>False</td>\n",
       "      <td>6030</td>\n",
       "      <td>43</td>\n",
       "      <td>F</td>\n",
       "      <td>3</td>\n",
       "      <td>10003</td>\n",
       "    </tr>\n",
       "    <tr>\n",
       "      <th>3</th>\n",
       "      <td>9d8d17ac-8af9-4936-ba5d-8d5ed5e0cfab</td>\n",
       "      <td>6820</td>\n",
       "      <td>2023-02-26</td>\n",
       "      <td>8.5</td>\n",
       "      <td>MOBILE_APP</td>\n",
       "      <td>False</td>\n",
       "      <td>False</td>\n",
       "      <td>2150</td>\n",
       "      <td>54</td>\n",
       "      <td>M</td>\n",
       "      <td>0</td>\n",
       "      <td>10004</td>\n",
       "    </tr>\n",
       "    <tr>\n",
       "      <th>4</th>\n",
       "      <td>4586ad7a-2231-419b-b8e3-ba03b929b56e</td>\n",
       "      <td>13770</td>\n",
       "      <td>2023-04-13</td>\n",
       "      <td>10.0</td>\n",
       "      <td>AFFILIATE</td>\n",
       "      <td>False</td>\n",
       "      <td>False</td>\n",
       "      <td>5810</td>\n",
       "      <td>28</td>\n",
       "      <td>F</td>\n",
       "      <td>2</td>\n",
       "      <td>10007</td>\n",
       "    </tr>\n",
       "  </tbody>\n",
       "</table>\n",
       "</div>"
      ],
      "text/plain": [
       "                                loan_id  principal_loan_amount request_date  \\\n",
       "0  70280c1b-4339-4949-ba69-ad2a6cb6b782                   8880   2023-03-06   \n",
       "1  8a550559-9749-491b-b6aa-7188bc0a488f                  13720   2023-05-10   \n",
       "2  5644d27e-e05e-4a40-bef3-64187892338f                   2090   2023-02-16   \n",
       "3  9d8d17ac-8af9-4936-ba5d-8d5ed5e0cfab                   6820   2023-02-26   \n",
       "4  4586ad7a-2231-419b-b8e3-ba03b929b56e                  13770   2023-04-13   \n",
       "\n",
       "   interest_rate loan_channel  is_approved  is_default  \\\n",
       "0            9.0          WEB         True       False   \n",
       "1           10.0   MOBILE_APP         True       False   \n",
       "2            7.5        AGENT         True       False   \n",
       "3            8.5   MOBILE_APP        False       False   \n",
       "4           10.0    AFFILIATE        False       False   \n",
       "\n",
       "   customer_monthly_income  customer_age customer_gender  \\\n",
       "0                     6100            30               M   \n",
       "1                     5150            39               F   \n",
       "2                     6030            43               F   \n",
       "3                     2150            54               M   \n",
       "4                     5810            28               F   \n",
       "\n",
       "   customer_credit_score  customer_zip_code  \n",
       "0                      3              10007  \n",
       "1                      3              10004  \n",
       "2                      3              10003  \n",
       "3                      0              10004  \n",
       "4                      2              10007  "
      ]
     },
     "execution_count": 3,
     "metadata": {},
     "output_type": "execute_result"
    }
   ],
   "source": [
    "df.head()"
   ]
  },
  {
   "cell_type": "code",
   "execution_count": 5,
   "id": "e7d8ead6-f281-4e32-b540-bf63c914dfd3",
   "metadata": {},
   "outputs": [
    {
     "data": {
      "text/plain": [
       "loan_id                    0\n",
       "principal_loan_amount      0\n",
       "request_date               0\n",
       "interest_rate              0\n",
       "loan_channel               0\n",
       "is_approved                0\n",
       "is_default                 0\n",
       "customer_monthly_income    0\n",
       "customer_age               0\n",
       "customer_gender            0\n",
       "customer_credit_score      0\n",
       "customer_zip_code          0\n",
       "dtype: int64"
      ]
     },
     "execution_count": 5,
     "metadata": {},
     "output_type": "execute_result"
    }
   ],
   "source": [
    "df.isnull().sum()"
   ]
  },
  {
   "cell_type": "markdown",
   "id": "0222904e-d19c-4966-9217-5fae9f334cc0",
   "metadata": {},
   "source": [
    "HYPOTHESIS TESTING\n",
    "\n",
    "\n",
    "Null hypothesis (from the operations team) : the interest rate has no impact on the loan default rate\n",
    "\n",
    "Alternative hypothesis : interest rate does have an impact on the loan default rate."
   ]
  },
  {
   "cell_type": "code",
   "execution_count": 8,
   "id": "18f450f7-dc03-464d-acef-51f17fd51d91",
   "metadata": {},
   "outputs": [
    {
     "data": {
      "text/plain": [
       "9.0"
      ]
     },
     "execution_count": 8,
     "metadata": {},
     "output_type": "execute_result"
    }
   ],
   "source": [
    "#calculate median of intrest rate ccolumn\n",
    "median = df['interest_rate'].median()\n",
    "median"
   ]
  },
  {
   "cell_type": "code",
   "execution_count": 10,
   "id": "ab9b0c03-49b3-4fb0-b652-7156e54bf256",
   "metadata": {},
   "outputs": [],
   "source": [
    "#splitting dataset into 2 groups based on intrest rates(high and low)\n",
    "high_interest=df[df['interest_rate']>median]\n",
    "low_interest=df[df['interest_rate']<median]"
   ]
  },
  {
   "cell_type": "code",
   "execution_count": 14,
   "id": "0efa3fb8-07fa-4ec4-9ef9-8c1d650deefd",
   "metadata": {},
   "outputs": [
    {
     "data": {
      "text/plain": [
       "(5434, 12)"
      ]
     },
     "execution_count": 14,
     "metadata": {},
     "output_type": "execute_result"
    }
   ],
   "source": [
    "high_interest.shape"
   ]
  },
  {
   "cell_type": "code",
   "execution_count": 15,
   "id": "fe2f57a6-5f53-488a-9355-38b453cd2b2b",
   "metadata": {},
   "outputs": [
    {
     "data": {
      "text/plain": [
       "65208"
      ]
     },
     "execution_count": 15,
     "metadata": {},
     "output_type": "execute_result"
    }
   ],
   "source": [
    "high_interest.size"
   ]
  },
  {
   "cell_type": "code",
   "execution_count": 16,
   "id": "0ed4c225-eda9-4858-82db-be32c8bfaf7b",
   "metadata": {},
   "outputs": [
    {
     "data": {
      "text/plain": [
       "(6829, 12)"
      ]
     },
     "execution_count": 16,
     "metadata": {},
     "output_type": "execute_result"
    }
   ],
   "source": [
    "low_interest.shape"
   ]
  },
  {
   "cell_type": "code",
   "execution_count": 17,
   "id": "046cbc48-0da2-4fd9-9ea2-772205a5dbce",
   "metadata": {},
   "outputs": [
    {
     "data": {
      "text/plain": [
       "81948"
      ]
     },
     "execution_count": 17,
     "metadata": {},
     "output_type": "execute_result"
    }
   ],
   "source": [
    "low_interest.size"
   ]
  },
  {
   "cell_type": "code",
   "execution_count": 18,
   "id": "7e9846a7-e3be-4a19-b194-e8ab6059af55",
   "metadata": {},
   "outputs": [],
   "source": [
    "high_default_rate= high_interest['is_default'].mean()\n",
    "low_default_rate= low_interest['is_default'].mean()"
   ]
  },
  {
   "cell_type": "code",
   "execution_count": 19,
   "id": "de234c1f-8083-48ac-b9f6-c3dc930f6f8a",
   "metadata": {},
   "outputs": [
    {
     "data": {
      "text/plain": [
       "0.03367684946632315"
      ]
     },
     "execution_count": 19,
     "metadata": {},
     "output_type": "execute_result"
    }
   ],
   "source": [
    "high_default_rate"
   ]
  },
  {
   "cell_type": "code",
   "execution_count": 20,
   "id": "d8e056be-a7f0-4b2f-ae87-b7c1fd3127de",
   "metadata": {},
   "outputs": [
    {
     "data": {
      "text/plain": [
       "0.03704788402401523"
      ]
     },
     "execution_count": 20,
     "metadata": {},
     "output_type": "execute_result"
    }
   ],
   "source": [
    "low_default_rate"
   ]
  },
  {
   "cell_type": "code",
   "execution_count": 25,
   "id": "bc90cfef-296a-484d-b18e-4a98877aa737",
   "metadata": {},
   "outputs": [],
   "source": [
    "t_stat, p_val = stats.ttest_ind(high_interest['is_default'], low_interest['is_default'])"
   ]
  },
  {
   "cell_type": "code",
   "execution_count": 26,
   "id": "19ddb398-d2d4-4918-a76c-3cd1021cf721",
   "metadata": {},
   "outputs": [
    {
     "data": {
      "text/plain": [
       "0.3166597414368534"
      ]
     },
     "execution_count": 26,
     "metadata": {},
     "output_type": "execute_result"
    }
   ],
   "source": [
    "p_val"
   ]
  },
  {
   "cell_type": "code",
   "execution_count": 30,
   "id": "1fc0e399-9332-4d6b-8269-36cbe2bdd41a",
   "metadata": {},
   "outputs": [
    {
     "name": "stdout",
     "output_type": "stream",
     "text": [
      "High interest rate default rate: 3.37%\n",
      "Low interest rate default rate: 3.70%\n"
     ]
    }
   ],
   "source": [
    "print('High interest rate default rate: {:.2%}'.format(high_default_rate))\n",
    "print('Low interest rate default rate: {:.2%}'.format(low_default_rate))"
   ]
  },
  {
   "cell_type": "code",
   "execution_count": 32,
   "id": "c4a92304-80dc-48b3-b403-07c820d6e207",
   "metadata": {},
   "outputs": [
    {
     "name": "stdout",
     "output_type": "stream",
     "text": [
      "Two-tailed t-test: t-statistic = -1.00, p-value = 0.32\n"
     ]
    }
   ],
   "source": [
    "print('Two-tailed t-test: t-statistic = {:.2f}, p-value = {:.2f}'.format(t_stat, p_val))"
   ]
  },
  {
   "cell_type": "code",
   "execution_count": 40,
   "id": "a39ac962-7c20-45ba-a1d3-af80a73b1c01",
   "metadata": {},
   "outputs": [
    {
     "data": {
      "text/plain": [
       "True     11647\n",
       "False     3353\n",
       "Name: is_approved, dtype: int64"
      ]
     },
     "execution_count": 40,
     "metadata": {},
     "output_type": "execute_result"
    }
   ],
   "source": [
    "df['is_approved'].value_counts()\n"
   ]
  },
  {
   "cell_type": "code",
   "execution_count": 45,
   "id": "fd752aa6-d8b3-40cb-8b13-f08738ffdf11",
   "metadata": {},
   "outputs": [],
   "source": [
    "import statsmodels.api as sm"
   ]
  },
  {
   "cell_type": "code",
   "execution_count": 47,
   "id": "192e110b-c646-476b-80f5-7f881565e1b8",
   "metadata": {},
   "outputs": [],
   "source": [
    "income_groups = pd.cut(df['customer_monthly_income'],\n",
    "                       bins=[0, 2500, 5000, 7500, np.inf])"
   ]
  },
  {
   "cell_type": "code",
   "execution_count": 48,
   "id": "284636a2-90e0-4658-b791-e399ebc4be3d",
   "metadata": {},
   "outputs": [],
   "source": [
    "approval_rate = df.groupby(income_groups)['is_approved'].mean()"
   ]
  },
  {
   "cell_type": "code",
   "execution_count": 49,
   "id": "2e6d2d00-29cb-46de-80cb-90931a79f02a",
   "metadata": {},
   "outputs": [
    {
     "name": "stdout",
     "output_type": "stream",
     "text": [
      "Optimization terminated successfully.\n",
      "         Current function value: 0.531339\n",
      "         Iterations 5\n",
      "                           Logit Regression Results                           \n",
      "==============================================================================\n",
      "Dep. Variable:            is_approved   No. Observations:                15000\n",
      "Model:                          Logit   Df Residuals:                    14998\n",
      "Method:                           MLE   Df Model:                            1\n",
      "Date:                Sun, 25 Jun 2023   Pseudo R-squ.:               8.514e-06\n",
      "Time:                        11:11:57   Log-Likelihood:                -7970.1\n",
      "converged:                       True   LL-Null:                       -7970.2\n",
      "Covariance Type:            nonrobust   LLR p-value:                    0.7126\n",
      "===========================================================================================\n",
      "                              coef    std err          z      P>|z|      [0.025      0.975]\n",
      "-------------------------------------------------------------------------------------------\n",
      "const                       1.2688      0.067     18.948      0.000       1.138       1.400\n",
      "customer_monthly_income -5.539e-06    1.5e-05     -0.368      0.713    -3.5e-05    2.39e-05\n",
      "===========================================================================================\n"
     ]
    }
   ],
   "source": [
    "X = sm.add_constant(df['customer_monthly_income'])\n",
    "y = df['is_approved']\n",
    "model = sm.Logit(y, X).fit()\n",
    "print(model.summary())"
   ]
  },
  {
   "cell_type": "code",
   "execution_count": null,
   "id": "f3cdc202-cce1-4203-af5d-0e8a1c355120",
   "metadata": {},
   "outputs": [],
   "source": []
  }
 ],
 "metadata": {
  "kernelspec": {
   "display_name": "Python 3 (ipykernel)",
   "language": "python",
   "name": "python3"
  },
  "language_info": {
   "codemirror_mode": {
    "name": "ipython",
    "version": 3
   },
   "file_extension": ".py",
   "mimetype": "text/x-python",
   "name": "python",
   "nbconvert_exporter": "python",
   "pygments_lexer": "ipython3",
   "version": "3.8.10"
  }
 },
 "nbformat": 4,
 "nbformat_minor": 5
}
